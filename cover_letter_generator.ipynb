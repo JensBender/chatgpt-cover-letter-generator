{
 "cells": [
  {
   "cell_type": "code",
   "execution_count": null,
   "id": "b3f4181a",
   "metadata": {},
   "outputs": [],
   "source": [
    "# Imports\n",
    "import openai\n",
    "import requests\n",
    "from bs4 import BeautifulSoup\n",
    "import json\n",
    "import datetime\n",
    "import my_target_job\n",
    "import my_secrets"
   ]
  },
  {
   "cell_type": "code",
   "execution_count": null,
   "id": "7ce12bbd",
   "metadata": {},
   "outputs": [],
   "source": [
    "# Set OpenAI API key\n",
    "openai.api_key = my_secrets.OPENAI_API_KEY"
   ]
  },
  {
   "cell_type": "code",
   "execution_count": null,
   "id": "4de9cf8c",
   "metadata": {},
   "outputs": [],
   "source": [
    "# Get job description from URL\n",
    "\n",
    "# Send a GET request to the URL\n",
    "url_response = requests.get(my_target_job.job_description_url)\n",
    "\n",
    "# Extract the HTML content from the response\n",
    "html_content = url_response.text\n",
    "\n",
    "# Create a BeautifulSoup object to parse the HTML\n",
    "soup = BeautifulSoup(html_content, \"html.parser\")\n",
    "\n",
    "# Extract the text from the webpage\n",
    "job_description = soup.get_text()\n",
    "\n",
    "# Remove whitespace characters\n",
    "job_description = \" \".join(job_description.split())  \n",
    "\n",
    "print(job_description)"
   ]
  }
 ],
 "metadata": {
  "kernelspec": {
   "display_name": "Python 3 (ipykernel)",
   "language": "python",
   "name": "python3"
  },
  "language_info": {
   "codemirror_mode": {
    "name": "ipython",
    "version": 3
   },
   "file_extension": ".py",
   "mimetype": "text/x-python",
   "name": "python",
   "nbconvert_exporter": "python",
   "pygments_lexer": "ipython3",
   "version": "3.9.13"
  },
  "toc": {
   "base_numbering": 1,
   "nav_menu": {},
   "number_sections": true,
   "sideBar": true,
   "skip_h1_title": false,
   "title_cell": "Table of Contents",
   "title_sidebar": "Contents",
   "toc_cell": false,
   "toc_position": {},
   "toc_section_display": true,
   "toc_window_display": false
  }
 },
 "nbformat": 4,
 "nbformat_minor": 5
}
