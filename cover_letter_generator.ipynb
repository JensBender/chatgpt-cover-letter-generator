{
 "cells": [
  {
   "cell_type": "code",
   "execution_count": null,
   "id": "b3f4181a",
   "metadata": {},
   "outputs": [],
   "source": [
    "# Imports\n",
    "import openai\n",
    "import requests\n",
    "from bs4 import BeautifulSoup\n",
    "import json\n",
    "import datetime\n",
    "import my_target_job\n",
    "import my_secrets"
   ]
  },
  {
   "cell_type": "code",
   "execution_count": null,
   "id": "7ce12bbd",
   "metadata": {},
   "outputs": [],
   "source": [
    "# Set OpenAI API key\n",
    "openai.api_key = my_secrets.OPENAI_API_KEY"
   ]
  },
  {
   "cell_type": "code",
   "execution_count": null,
   "id": "e23cd96e",
   "metadata": {},
   "outputs": [],
   "source": [
    "# Get job description from URL\n",
    "\n",
    "# Send a GET request to the URL\n",
    "url_response = requests.get(my_target_job.job_description_url)\n",
    "\n",
    "# Extract the HTML content from the response\n",
    "html_content = url_response.text\n",
    "\n",
    "# Create a BeautifulSoup object to parse the HTML\n",
    "soup = BeautifulSoup(html_content, \"html.parser\")\n",
    "\n",
    "# Extract the text from the webpage\n",
    "job_description = soup.get_text()\n",
    "\n",
    "# Remove whitespace characters\n",
    "job_description = \" \".join(job_description.split())  \n",
    "\n",
    "print(job_description)"
   ]
  },
  {
   "cell_type": "code",
   "execution_count": null,
   "id": "d004f25e",
   "metadata": {},
   "outputs": [],
   "source": [
    "# Helper function: Get ChatGPT response from text prompt using API\n",
    "def get_completion(prompt, model=\"gpt-3.5-turbo\", temperature=0): \n",
    "    messages = [{\"role\": \"user\", \"content\": prompt}]\n",
    "    response = openai.ChatCompletion.create(\n",
    "        model = model,\n",
    "        messages = messages,\n",
    "        temperature = temperature,  # degree of randomness of GPT response\n",
    "    )\n",
    "    return response.choices[0].message[\"content\"]"
   ]
  },
  {
   "cell_type": "code",
   "execution_count": null,
   "id": "529e7791",
   "metadata": {},
   "outputs": [],
   "source": [
    "# Extract information from job description\n",
    "\n",
    "# Delimiter used to mark the start and end of the job description\n",
    "delimiter = \"####\"\n",
    "\n",
    "# Prompt for extracting information from job description\n",
    "extraction_prompt = f\"\"\"\n",
    "Deine Aufgabe ist es, Informationen über Arbeitgeber, Stellenbezeichnung, Anforderungen, Aufgaben,\n",
    "Kontaktperson und Adresse aus der Stellenbeschreibung, die mit {delimiter} Zeichen markiert ist, \n",
    "zu extrahieren.\n",
    "\n",
    "Formattiere deine Antwort als Python Dictionary mit \"Arbeitgeber\", \"Stellenbezeichnung\", \n",
    "\"Anforderungen\", \"Aufgaben\", \"Kontaktperson\", und \"Adresse\" als Schlüssel. \n",
    "\n",
    "Formattiere die \"Anforderungen\" und \"Aufgaben\" jeweils als Liste. \n",
    "\n",
    "Wenn die Information in der Stellenbeschreibung fehlt, verwende \"unbekannt\" als Wert. \n",
    "\n",
    "Antworte so kurz wie möglich. \n",
    "\n",
    "Stellenbeschreibung: {delimiter}{job_description}{delimiter}\n",
    "\"\"\"\n",
    "\n",
    "# Get extraction response\n",
    "extraction_response_str = get_completion(extraction_prompt)\n",
    "\n",
    "# Convert extraction response from str to json\n",
    "extraction_response = json.loads(extraction_response_str)\n",
    "\n",
    "# Show extracted information\n",
    "print(extraction_response)"
   ]
  }
 ],
 "metadata": {
  "kernelspec": {
   "display_name": "Python 3 (ipykernel)",
   "language": "python",
   "name": "python3"
  },
  "language_info": {
   "codemirror_mode": {
    "name": "ipython",
    "version": 3
   },
   "file_extension": ".py",
   "mimetype": "text/x-python",
   "name": "python",
   "nbconvert_exporter": "python",
   "pygments_lexer": "ipython3",
   "version": "3.9.13"
  },
  "toc": {
   "base_numbering": 1,
   "nav_menu": {},
   "number_sections": true,
   "sideBar": true,
   "skip_h1_title": false,
   "title_cell": "Table of Contents",
   "title_sidebar": "Contents",
   "toc_cell": false,
   "toc_position": {},
   "toc_section_display": true,
   "toc_window_display": false
  }
 },
 "nbformat": 4,
 "nbformat_minor": 5
}
