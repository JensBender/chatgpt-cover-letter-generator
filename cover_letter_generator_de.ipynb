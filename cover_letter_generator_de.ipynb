{
 "cells": [
  {
   "cell_type": "code",
   "execution_count": null,
   "id": "b3f4181a",
   "metadata": {},
   "outputs": [],
   "source": [
    "# Imports\n",
    "from openai import OpenAI\n",
    "import requests\n",
    "from bs4 import BeautifulSoup\n",
    "from pydantic import BaseModel\n",
    "import json\n",
    "import datetime\n",
    "import your_information"
   ]
  },
  {
   "cell_type": "markdown",
   "id": "13d233a0-4f05-4288-8439-f5ac189675b4",
   "metadata": {},
   "source": [
    "# Webscraping \n",
    "Get job description text from the URL of the job posting using `Requests` and `BeautifulSoup`."
   ]
  },
  {
   "cell_type": "code",
   "execution_count": null,
   "id": "c98e66e2",
   "metadata": {},
   "outputs": [],
   "source": [
    "# Send HTTP GET request\n",
    "url_response = requests.get(your_information.job_description_url)\n",
    "\n",
    "# Extract HTML content\n",
    "html_content = url_response.text\n",
    "\n",
    "# Initialize BeautifulSoup object to parse HTML content\n",
    "soup = BeautifulSoup(html_content, \"html.parser\")\n",
    "\n",
    "# Extract the text\n",
    "job_description = soup.get_text()\n",
    "\n",
    "# Remove whitespace characters\n",
    "job_description = \" \".join(job_description.split())  \n",
    "\n",
    "# Show job description text\n",
    "print(job_description)"
   ]
  },
  {
   "cell_type": "markdown",
   "id": "7b6176b9-66f7-4f52-8b46-50d3dc4542b7",
   "metadata": {},
   "source": [
    "# Information Extraction \n",
    "Get relevant information from job description text in JSON format using `OpenAI's chat completions API` with `response_format` parameter for `structured outputs`. Leverage the `Pydantic` library to define a clear and robust JSON schema for validating and structuring the extracted data."
   ]
  },
  {
   "cell_type": "code",
   "execution_count": null,
   "id": "58c7813f",
   "metadata": {},
   "outputs": [],
   "source": [
    "# Initialize OpenAI client to connect to ChatGPT API\n",
    "client = OpenAI(api_key=your_information.OPENAI_API_KEY)\n",
    "\n",
    "# Define JSON output format in English\n",
    "class JobDescriptionExtraction(BaseModel):\n",
    "    employer: str\n",
    "    job_title: str\n",
    "    requirements: list[str]\n",
    "    tasks: list[str]\n",
    "    contact_person: str\n",
    "    address: str\n",
    "\n",
    "# Define JSON output format in German\n",
    "class StellenbeschreibungExtraktion(BaseModel):\n",
    "    Arbeitgeber: str\n",
    "    Stellenbezeichnung: str\n",
    "    Anforderungen: list[str]\n",
    "    Aufgaben: list[str]\n",
    "    Kontaktperson: str\n",
    "    Adresse: str\n",
    "\n",
    "# Define system prompt for information extraction in English and German\n",
    "extraction_system_prompt_dict = {\n",
    "    \"en\": \"\"\"\n",
    "    You are an expert at structured data extraction. You will be given unstructured text from a job description \n",
    "    and should convert it into the given structure. If the information is missing in the job description, use \n",
    "    \"unknown\" as the value. Respond as concisely as possible.\n",
    "    \"\"\",\n",
    "    \"de\": \"\"\"\n",
    "    Du bist ein Experte für die Extraktion strukturierter Daten. Dir wird unstrukturierter Text aus einer \n",
    "    Stellenbeschreibung gegeben, den du in das vorgegebene Format umwandeln sollst. Wenn die Information \n",
    "    in der Stellenbeschreibung fehlt, verwende \"unbekannt\" als Wert. Antworte so kurz wie möglich.\n",
    "    \"\"\"\n",
    "}\n",
    "\n",
    "# Make API request to extract information from job description text\n",
    "extraction_response_raw = client.beta.chat.completions.parse(\n",
    "    model = \"gpt-4o-mini\",\n",
    "    messages = [\n",
    "        {\"role\": \"system\", \"content\": extraction_system_prompt_dict[\"de\"]},  # \"en\" for English\n",
    "        {\"role\": \"user\", \"content\": job_description}\n",
    "    ],\n",
    "    response_format = StellenbeschreibungExtraktion  # JobDescriptionExtraction for English\n",
    ")\n",
    "\n",
    "# Show raw extraction response\n",
    "extraction_response_raw"
   ]
  },
  {
   "cell_type": "code",
   "execution_count": null,
   "id": "4d7ec7e8-0c86-4fd8-b520-cc35f2a0b16e",
   "metadata": {},
   "outputs": [],
   "source": [
    "# Get parsed extraction response from raw response and convert it to dict\n",
    "extraction_response = extraction_response_raw.choices[0].message.parsed.dict()\n",
    "extraction_response"
   ]
  },
  {
   "cell_type": "markdown",
   "id": "def0f603-2e97-44ea-a0bc-43d4452eddfc",
   "metadata": {},
   "source": [
    "# Cover Letter Generation \n",
    "Create 3 cover letter suggestions by matching qualifications with job requirements using `OpenAI's chat completions API`."
   ]
  },
  {
   "cell_type": "code",
   "execution_count": null,
   "id": "40c9c75d-ac86-4474-ae6f-8ac2ddb3891f",
   "metadata": {},
   "outputs": [],
   "source": [
    "# Helper function: Get ChatGPT response from text prompt using API\n",
    "def get_completion(prompt, system_prompt=\"\", model=\"gpt-4o-mini\"): \n",
    "    response = client.chat.completions.create(\n",
    "        model = model,\n",
    "        messages = [\n",
    "            {\"role\": \"system\", \"content\": system_prompt},\n",
    "            {\"role\": \"user\", \"content\": prompt}\n",
    "        ]\n",
    "    )\n",
    "    return response"
   ]
  },
  {
   "cell_type": "code",
   "execution_count": null,
   "id": "4f55a7ae",
   "metadata": {},
   "outputs": [],
   "source": [
    "# Cover letter prompt\n",
    "cover_letter_prompt = f\"\"\"\n",
    "Deine Aufgabe ist es, ein professionelles Bewerbungsanschreiben zu erstellen.\n",
    "\n",
    "Adressiere das Anschreiben an folgenden Arbeitgeber, Adresse, Stelle und Kontaktperson:\n",
    "Arbeitgeber: {extraction_response[\"Arbeitgeber\"]}\n",
    "Adresse: {extraction_response[\"Adresse\"]}\n",
    "Stelle: {extraction_response[\"Stellenbezeichnung\"]}\n",
    "Kontaktperson: {extraction_response[\"Kontaktperson\"]}\n",
    "\n",
    "Verwende folgenden Absender:\n",
    "Name: {your_information.name}\n",
    "Adresse: {your_information.address}\n",
    "Telefonnummer: {your_information.phone}\n",
    "E-Mail: {your_information.email}\n",
    "\n",
    "Verwende im Briefkopf des Anschreibens Ort und Datum. \n",
    "Verwende den Ort aus: {your_information.address}\n",
    "Verwende das folgende, aktuelle Datum im deutschen Datumsformat: {datetime.date.today()}\n",
    "\n",
    "Beschreibe inwiefern die Anforderungen und Aufgaben erfüllt werden durch die \n",
    "Ausbildung, Arbeitserfahrung, Kompetenzen und Motivation. \n",
    "Verwende hierfür die folgenden Informationen:\n",
    "Anforderungen: {extraction_response[\"Anforderungen\"]}\n",
    "Aufgaben: {extraction_response[\"Aufgaben\"]}\n",
    "Ausbildung: {your_information.education}\n",
    "Arbeitserfahrung: {your_information.work_experience}\n",
    "Kompetenzen: {your_information.skills}\n",
    "Motivation: {your_information.motivation}\n",
    "\n",
    "Nenne folgende Gehaltsvorstellung und mögliches Eintrittsdatum:\n",
    "Gehaltsvorstellung : {your_information.salary_expectations}\n",
    "Mögliches Eintrittsdatum: {your_information.possible_start_date}\n",
    "\n",
    "Schreibe in einem professionellen, präzisen und kompakten Ton.\n",
    "\n",
    "Unterschreibe das Anschreiben als {your_information.name}.\n",
    "\"\"\"\n",
    "\n",
    "# Create 3 cover letter suggestions\n",
    "cover_letter_ls = []\n",
    "for i in range(3):\n",
    "    # Generate a single cover letter via API request\n",
    "    cover_letter_response = get_completion(cover_letter_prompt, temperature=0.7).choices[0].message.content\n",
    "    # Remove ** symbols\n",
    "    cover_letter_response = cover_letter_response.replace('**', '')\n",
    "    # Append cover letter to list\n",
    "    cover_letter_ls.append(cover_letter_response)\n",
    "\n",
    "# Print cover letter suggestions\n",
    "for i in range(len(cover_letter_ls)):\n",
    "    print(f\"Anschreiben {i+1}\")\n",
    "    print(\"=\" * 5)\n",
    "    print(cover_letter_ls[i])\n",
    "    print(\"=\" * 30)"
   ]
  }
 ],
 "metadata": {
  "kernelspec": {
   "display_name": "venv_coverletter_dev",
   "language": "python",
   "name": "venv_development"
  },
  "language_info": {
   "codemirror_mode": {
    "name": "ipython",
    "version": 3
   },
   "file_extension": ".py",
   "mimetype": "text/x-python",
   "name": "python",
   "nbconvert_exporter": "python",
   "pygments_lexer": "ipython3",
   "version": "3.10.4"
  },
  "toc": {
   "base_numbering": 1,
   "nav_menu": {},
   "number_sections": true,
   "sideBar": true,
   "skip_h1_title": false,
   "title_cell": "Table of Contents",
   "title_sidebar": "Contents",
   "toc_cell": false,
   "toc_position": {},
   "toc_section_display": true,
   "toc_window_display": false
  }
 },
 "nbformat": 4,
 "nbformat_minor": 5
}
